{
 "cells": [
  {
   "cell_type": "raw",
   "id": "e7e568e6",
   "metadata": {},
   "source": [
    "1. Is the Python Standard Library included with PyInputPlus?\n",
    "\n",
    "Answer- PyInputPlus is not a part of the python standard Library, we must install it seperately using Pip."
   ]
  },
  {
   "cell_type": "raw",
   "id": "445244a2",
   "metadata": {},
   "source": [
    "2. Why is PyInputPlus commonly imported with import pyinputplus as pypi?\n",
    "\n",
    "Answer- pypi is alias of PyInputPlus. The pypi saves us typing from PyInputPlus again again we want to call the function."
   ]
  },
  {
   "cell_type": "raw",
   "id": "a4a7f089",
   "metadata": {},
   "source": [
    "3. How do you distinguish between inputInt() and inputFloat()?\n",
    "\n",
    "Answer- inputInt accepts integer values only and only returns int value.\n",
    "inputFloat accepts floating or decimal values only and returns float value."
   ]
  },
  {
   "cell_type": "raw",
   "id": "4e31c0c6",
   "metadata": {},
   "source": [
    "4. Using PyInputPlus, how do you ensure that the user enters a whole number between 0 and 99?\n",
    "\n",
    "Answer- By using pyip.inputInt(min= 0, max =99)"
   ]
  },
  {
   "cell_type": "raw",
   "id": "ea793bbc",
   "metadata": {},
   "source": [
    "5. What is transferred to the keyword arguments allowRegexes and blockRegexes?\n",
    "\n",
    "Answer- The regex string specify whether an input is allowed or not. Keyword argument take a list of regular expression strings to detertmine what the PyInputPlus function will accept or reject as valid input."
   ]
  },
  {
   "cell_type": "raw",
   "id": "b972e81f",
   "metadata": {},
   "source": [
    "6. If a blank input is entered three times, what does inputStr(limit=3) do?\n",
    "\n",
    "Answer- It will throw RetryLimitException exception."
   ]
  },
  {
   "cell_type": "raw",
   "id": "95cf2a81",
   "metadata": {},
   "source": [
    "7. If blank input is entered three times, what does inputStr(limit=3, default='hello') do?\n",
    "\n",
    "Answer- The function return the value'hello'."
   ]
  }
 ],
 "metadata": {
  "kernelspec": {
   "display_name": "Python 3 (ipykernel)",
   "language": "python",
   "name": "python3"
  },
  "language_info": {
   "codemirror_mode": {
    "name": "ipython",
    "version": 3
   },
   "file_extension": ".py",
   "mimetype": "text/x-python",
   "name": "python",
   "nbconvert_exporter": "python",
   "pygments_lexer": "ipython3",
   "version": "3.9.7"
  }
 },
 "nbformat": 4,
 "nbformat_minor": 5
}
